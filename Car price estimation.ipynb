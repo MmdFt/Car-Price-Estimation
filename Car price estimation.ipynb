{
 "cells": [
  {
   "cell_type": "markdown",
   "metadata": {},
   "source": [
    "Imports"
   ]
  },
  {
   "cell_type": "code",
   "execution_count": 1,
   "metadata": {},
   "outputs": [],
   "source": [
    "import re\n",
    "import bs4\n",
    "import requests\n",
    "import mysql.connector\n",
    "import csv\n",
    "import pickle\n",
    "import pandas as pd\n",
    "import numpy as np\n",
    "from sklearn.model_selection import train_test_split\n",
    "from sklearn.preprocessing import StandardScaler\n",
    "from sklearn.preprocessing import OneHotEncoder\n",
    "from sklearn.linear_model import LinearRegression\n",
    "from sklearn.metrics import mean_squared_error\n",
    "from sklearn.metrics import mean_absolute_error"
   ]
  },
  {
   "cell_type": "markdown",
   "metadata": {},
   "source": [
    "Functions which are needed to scrap data from website"
   ]
  },
  {
   "cell_type": "code",
   "execution_count": null,
   "metadata": {},
   "outputs": [],
   "source": [
    "# Use regular expression to extract the VIN from the string\n",
    "def clean_vin(vin_text):\n",
    "    vin_match = re.search(r'VIN[^\\w]*(\\w+)', vin_text, re.I)\n",
    "    return vin_match.group(1) if vin_match else \"VIN not available\"\n",
    "\n",
    "# Use regular expression to extract the number of accident and previous owners from the string\n",
    "def accident_count(text):\n",
    "    match = re.search(r'(\\d+)\\saccident', text, re.IGNORECASE)\n",
    "\n",
    "    if match:\n",
    "        return int(match.group(1))\n",
    "    else:\n",
    "        return 0\n",
    "\n",
    "def owner_count(text):\n",
    "    owner_pattern = r'(\\d+)\\sOwner'\n",
    "    match = re.search(owner_pattern, text, re.IGNORECASE)\n",
    "\n",
    "    if match:\n",
    "        return int(match.group(1))\n",
    "    else:\n",
    "        return 0"
   ]
  },
  {
   "cell_type": "markdown",
   "metadata": {},
   "source": [
    "Connect to MySQL server"
   ]
  },
  {
   "cell_type": "code",
   "execution_count": null,
   "metadata": {},
   "outputs": [],
   "source": [
    "cnx = mysql.connector.connect(user='root', password='',\n",
    "                              host='127.0.0.1',\n",
    "                              database='vehicle_info')\n",
    "\n",
    "cursor = cnx.cursor()"
   ]
  },
  {
   "cell_type": "markdown",
   "metadata": {},
   "source": [
    "Gets the name of the car as input and find the number of pages of the cars"
   ]
  },
  {
   "cell_type": "code",
   "execution_count": null,
   "metadata": {},
   "outputs": [],
   "source": [
    "car_name = input().split(' ')\n",
    "car_url = '/'.join(car_name)\n",
    "full_url = 'https://www.truecar.com/used-cars-for-sale/listings/{0}/'.format(car_url)\n",
    "\n",
    "page = requests.get(full_url)\n",
    "soup = bs4.BeautifulSoup(page.text, 'html.parser')\n",
    "number_of_pages = int(soup.find_all('a', attrs={'data-qa': 'Pagination-link'})[-1].text)"
   ]
  },
  {
   "cell_type": "markdown",
   "metadata": {},
   "source": [
    "Iterate over all pages and extracts the information of each car using its unique VIN(Vehicle Identification Number), and adds the cars attributes to the car_info table. Omitting cars with not available prices at the end."
   ]
  },
  {
   "cell_type": "code",
   "execution_count": null,
   "metadata": {},
   "outputs": [],
   "source": [
    "cursor = cnx.cursor()\n",
    "\n",
    "car_model_number = dict()\n",
    "n = 1\n",
    "cars = dict()\n",
    "\n",
    "for page_num in range(1, number_of_pages + 1):\n",
    "    full_url_each_page = f'{full_url}?page={page_num}'\n",
    "    page = requests.get(full_url_each_page)\n",
    "    soup = bs4.BeautifulSoup(page.text, 'html.parser')\n",
    "\n",
    "    car_tags = soup.find_all('div', attrs = {'class' : 'vehicle-card-vin-carousel mt-1 text-xs'})\n",
    "\n",
    "    for vin_element in car_tags:\n",
    "        each_car = list()\n",
    "        \n",
    "        if vin_element:\n",
    "            car_vin = vin_element.text\n",
    "        else:\n",
    "            car_vin = \"VIN not available\"\n",
    "\n",
    "        car_model_element = vin_element.find_previous('div', attrs={'data-test': 'vehicleCardTrim'})\n",
    "        car_model = car_model_element.text.strip() if car_model_element else 'N/A'\n",
    "        \n",
    "        # Assign a number to each model of car\n",
    "        if not car_model in car_model_number:\n",
    "            car_model_number[car_model] = n\n",
    "            n += 1\n",
    "        each_car_model_num = car_model_number[car_model]\n",
    "\n",
    "        # Extract car year_model\n",
    "        car_year_model_element = vin_element.find_previous('span', class_='vehicle-card-year text-xs')\n",
    "        car_year_model = int(car_year_model_element.text.strip()) if car_year_model_element and car_year_model_element.text.strip().isdigit() else 'N/A'\n",
    "\n",
    "        # Extract car mileage\n",
    "        car_mileage_element = vin_element.find_previous('div', attrs={'data-test': 'vehicleMileage'})\n",
    "        car_mileage = int(''.join(filter(str.isdigit, car_mileage_element.text.strip()))) if car_mileage_element else 'N/A'\n",
    "\n",
    "        # Extract car number of accidents and owners\n",
    "        car_condition_text = vin_element.find_previous('div', attrs={'data-test': \"vehicleCardCondition\"})\n",
    "        car_accidents = accident_count(car_condition_text.text)\n",
    "        car_owners = owner_count(car_condition_text.text)\n",
    "\n",
    "        # Extract car price\n",
    "        price_element = vin_element.find_previous('div', attrs = {\"vehicle-card-bottom-pricing-secondary pl-3 lg:pl-2 vehicle-card-bottom-max-50\"})\n",
    "        each_car_price_element = price_element.find('span', attrs={'data-test': 'vehicleListingPriceAmount'})\n",
    "        price = int(''.join(filter(str.isdigit, each_car_price_element.text.strip()))) if each_car_price_element else 'N/A'\n",
    "\n",
    "        # Create a dictionary of all cars and their attributes\n",
    "        each_car.append(car_model)\n",
    "        each_car.append(each_car_model_num)\n",
    "        each_car.append(car_year_model)\n",
    "        each_car.append(car_mileage)\n",
    "        each_car.append(car_accidents)\n",
    "        each_car.append(car_owners)\n",
    "        each_car.append(price)\n",
    "\n",
    "        cars[vin_element] = each_car\n",
    "\n",
    "        # Add all info to a table in sql\n",
    "        query = 'INSERT INTO car_info (vin, model, model_number, year_model, mileage, accidents, owners, price) VALUES (%s, %s, %s, %s, %s, %s, %s, %s)'\n",
    "        values = (car_vin, car_model, each_car_model_num, car_year_model, car_mileage, car_accidents, car_owners, price)\n",
    "        cursor.execute(query, values)\n",
    "        cnx.commit()\n",
    "\n",
    "        query_2 = 'DELETE FROM car_info WHERE price LIKE \\'N/A\\''\n",
    "        cursor.execute(query_2)\n",
    "        cnx.commit()"
   ]
  },
  {
   "cell_type": "markdown",
   "metadata": {},
   "source": [
    "Some MySQL queries for creating table and edit it"
   ]
  },
  {
   "cell_type": "code",
   "execution_count": null,
   "metadata": {},
   "outputs": [],
   "source": [
    "    # CREATE DATABASE vehicle_info;\n",
    "    # SHOW DATABASES;\n",
    "    # USE vehicle_info\n",
    "    # CREATE TABLE car_info (vin varchar(30), model varchar(60), model_number int, year_model int, mileage varchar(10), accidents int, owners int, price varchar(10));\n",
    "    # DESC car_info;\n",
    "    # SELECT * FROM car_info;\n",
    "    # DELETE FROM car_info;\n",
    "    # DROP TABLE car_info;"
   ]
  },
  {
   "cell_type": "markdown",
   "metadata": {},
   "source": [
    "Creating a CSV file from SQL table"
   ]
  },
  {
   "cell_type": "code",
   "execution_count": null,
   "metadata": {},
   "outputs": [],
   "source": [
    "#turn sql table into csv file\n",
    "cursor.execute('SELECT * FROM car_info')\n",
    "rows = cursor.fetchall()\n",
    "\n",
    "header = [row[0] for row in cursor.description]\n",
    "\n",
    "with open(\"D:\\Learning\\Python\\Jadi-Advance\\Final project\\car_info.csv\", 'w', newline='') as file:\n",
    "    writer = csv.writer(file)\n",
    "    writer.writerow(header)\n",
    "    for row in rows:\n",
    "        writer.writerow(row)\n",
    "\n",
    "cnx.close()"
   ]
  },
  {
   "cell_type": "markdown",
   "metadata": {},
   "source": [
    "Create a dataframe from CSV file and then filtering cars with less than 4 times repetitions. This filtering is applied to let stratify distribute the cars between train and test datasets in the right proportion."
   ]
  },
  {
   "cell_type": "code",
   "execution_count": null,
   "metadata": {},
   "outputs": [],
   "source": [
    "# Creating Dataframe\n",
    "df = pd.read_csv(\"D:\\Learning\\Python\\Jadi-Advance\\Final project\\car_info.csv\")\n",
    "# print(df['model_number'].value_counts())\n",
    "\n",
    "df = df[df['model_number']]\n",
    "target = df['price'].to_numpy()\n",
    "final_df = df.drop(['vin', 'price'], axis= 1)\n",
    "\n",
    "# Filtering car models that repeated less than 4 times to stratify works properly\n",
    "final_df = final_df.groupby('model_number').filter(lambda x: len(x) > 4)\n",
    "# print(final_df['model_number'].value_counts())"
   ]
  },
  {
   "cell_type": "markdown",
   "metadata": {},
   "source": [
    "Create train and test datasets and Scale the numerical attributes and encode the categorical ones and then concatenate these two types of attributes."
   ]
  },
  {
   "cell_type": "code",
   "execution_count": null,
   "metadata": {},
   "outputs": [],
   "source": [
    "X_train, X_test, y_train, y_test = train_test_split(final_df, target, test_size=0.3, stratify= final_df['model_number'].values)\n",
    "X_train_categorical = X_train[['model']].to_numpy().reshape(-1, 1)\n",
    "X_train_numerical = X_train[['year_model', 'mileage']].to_numpy()\n",
    "X_test_categorical = X_test[['model']].to_numpy().reshape(-1, 1)\n",
    "X_test_numerical = X_test[['year_model', 'mileage']].to_numpy()\n",
    "\n",
    "# Scaling\n",
    "scaler = StandardScaler()\n",
    "X_train_numerical = scaler.fit_transform(X_train_numerical)\n",
    "X_test_numerical = scaler.transform(X_test_numerical)\n",
    "data_scaler = pickle.dumps(scaler)\n",
    "\n",
    "enc = OneHotEncoder(handle_unknown='ignore')\n",
    "X_train_categorical = enc.fit_transform(X_train_categorical).toarray()\n",
    "X_test_categorical = enc.transform(X_test_categorical).toarray()\n",
    "data_encoder = pickle.dumps(enc)\n",
    "\n",
    "X_train = np.concatenate((X_train_categorical, X_train_numerical), axis=1)\n",
    "X_test = np.concatenate((X_test_categorical, X_test_numerical), axis=1)"
   ]
  },
  {
   "cell_type": "markdown",
   "metadata": {},
   "source": [
    "Train a linear regression model on the train dataset and then testing it"
   ]
  },
  {
   "cell_type": "code",
   "execution_count": null,
   "metadata": {},
   "outputs": [],
   "source": [
    "# Train a ML model Regression and testing it\n",
    "reg = LinearRegression().fit(X_train, y_train)\n",
    "y_pred = reg.predict(X_test)\n",
    "ml_model = pickle.dumps(reg)\n",
    "\n",
    "print(mean_squared_error(y_test, y_pred))\n",
    "print(mean_absolute_error(y_test, y_pred))\n",
    "\n",
    "print(reg.score(X_train, y_train))\n",
    "print(reg.score(X_test, y_test))"
   ]
  },
  {
   "cell_type": "markdown",
   "metadata": {},
   "source": [
    "Function for predicting new cars price."
   ]
  },
  {
   "cell_type": "code",
   "execution_count": null,
   "metadata": {},
   "outputs": [],
   "source": [
    "# Defining a function to predict the price of new cars\n",
    "def predict_price(car_info):\n",
    "    car_categorical = np.array([car_info[0]]).reshape(-1, 1)\n",
    "    car_numerical = np.array([car_info[1:]])\n",
    "    enc = pickle.loads(data_encoder)\n",
    "    scaler = pickle.loads(data_scaler)\n",
    "    price_predictor = pickle.loads(ml_model)\n",
    "\n",
    "    X_numerical = scaler.transform(car_numerical)\n",
    "    X_categorical = enc.transform(car_categorical).toarray()\n",
    "\n",
    "    X = np.concatenate((X_categorical, X_numerical), axis=1)\n",
    "    price_pred = price_predictor.predict(X)\n",
    "    return price_pred"
   ]
  },
  {
   "cell_type": "code",
   "execution_count": null,
   "metadata": {},
   "outputs": [],
   "source": [
    "new_car = input('please enter the model of car its manufacture year and mileage and separate them by \\',\\': ').split(',')\n",
    "new_car_info = [new_car[0]] + [int(x) for x in new_car[1:]]\n",
    "new_car_price = predict_price(new_car_info)\n",
    "print(new_car_price)"
   ]
  }
 ],
 "metadata": {
  "kernelspec": {
   "display_name": "Python 3",
   "language": "python",
   "name": "python3"
  },
  "language_info": {
   "codemirror_mode": {
    "name": "ipython",
    "version": 3
   },
   "file_extension": ".py",
   "mimetype": "text/x-python",
   "name": "python",
   "nbconvert_exporter": "python",
   "pygments_lexer": "ipython3",
   "version": "3.10.4"
  },
  "orig_nbformat": 4
 },
 "nbformat": 4,
 "nbformat_minor": 2
}
